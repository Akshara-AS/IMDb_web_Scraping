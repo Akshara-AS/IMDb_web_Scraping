{
 "cells": [
  {
   "cell_type": "code",
   "execution_count": 2,
   "id": "aa2ec5ce",
   "metadata": {},
   "outputs": [],
   "source": [
    "import pandas as pd \n",
    "import requests \n",
    "from bs4 import BeautifulSoup \n",
    "import numpy as np"
   ]
  },
  {
   "cell_type": "code",
   "execution_count": 8,
   "id": "6b7273b9",
   "metadata": {},
   "outputs": [],
   "source": [
    "url = \"https://www.imdb.com/search/title/?count=100&groups=top_1000&sort=user_rating\"\n",
    "response = requests.get(url)\n",
    "soup = BeautifulSoup(response.content,'html.parser')"
   ]
  },
  {
   "cell_type": "code",
   "execution_count": 10,
   "id": "39f18ea2",
   "metadata": {},
   "outputs": [],
   "source": [
    "movie_name = []\n",
    "year = []\n",
    "time = []\n",
    "rating = []\n",
    "metascore = []\n",
    "votes = []\n",
    "gross = []"
   ]
  },
  {
   "cell_type": "code",
   "execution_count": 26,
   "id": "4556b953",
   "metadata": {},
   "outputs": [],
   "source": [
    "movie_data = soup.findAll('div',attrs={'class':'lister-item mode-advanced'})"
   ]
  },
  {
   "cell_type": "code",
   "execution_count": 152,
   "id": "1bf81814",
   "metadata": {},
   "outputs": [],
   "source": [
    "for i in movie_data:\n",
    "     \n",
    "    name = i.h3.a.text\n",
    "    movie_name.append(name)\n",
    "    \n",
    "    year_of_release = i.h3.find('span', class_='lister-item-year text-muted unbold').text.replace('(','').replace(')','')\n",
    "    year.append(year_of_release)\n",
    "    \n",
    "    duration = i.p.find('span',class_='runtime').text.replace(' min','')\n",
    "    time.append(duration) \n",
    "    \n",
    "    rate = i.find('div',class_='inline-block ratings-imdb-rating').text.replace('\\n','')\n",
    "    rating.append(rate)\n",
    "     \n",
    "    score = i.find('span', class_ = 'metascore').text.replace('        ','') if i.find('span', class_ = 'metascore') else '0'   \n",
    "    metascore.append(score)\n",
    "        \n",
    "    value = i.find_all('span',attrs={'name':'nv'})\n",
    "        \n",
    "    vote = value[0].text\n",
    "    votes.append(vote)\n",
    "        \n",
    "    grosses = value[1].text if len(value)>1 else '$0'   \n",
    "    gross.append(grosses)"
   ]
  },
  {
   "cell_type": "code",
   "execution_count": 153,
   "id": "17a1ea55",
   "metadata": {
    "scrolled": true
   },
   "outputs": [],
   "source": [
    "movie_df = pd.DataFrame({'Name of the movie':movie_name,\n",
    "                         'Year of Release':year,\n",
    "                         'Duration':time,\n",
    "                         'Metascore':metascore,\n",
    "                         'Votes':votes,\n",
    "                         'Gross':gross})"
   ]
  },
  {
   "cell_type": "code",
   "execution_count": 154,
   "id": "c9b99957",
   "metadata": {},
   "outputs": [
    {
     "data": {
      "text/html": [
       "<div>\n",
       "<style scoped>\n",
       "    .dataframe tbody tr th:only-of-type {\n",
       "        vertical-align: middle;\n",
       "    }\n",
       "\n",
       "    .dataframe tbody tr th {\n",
       "        vertical-align: top;\n",
       "    }\n",
       "\n",
       "    .dataframe thead th {\n",
       "        text-align: right;\n",
       "    }\n",
       "</style>\n",
       "<table border=\"1\" class=\"dataframe\">\n",
       "  <thead>\n",
       "    <tr style=\"text-align: right;\">\n",
       "      <th></th>\n",
       "      <th>Name of the movie</th>\n",
       "      <th>Year of Release</th>\n",
       "      <th>Duration</th>\n",
       "      <th>Metascore</th>\n",
       "      <th>Votes</th>\n",
       "      <th>Gross</th>\n",
       "    </tr>\n",
       "  </thead>\n",
       "  <tbody>\n",
       "    <tr>\n",
       "      <th>0</th>\n",
       "      <td>The Shawshank Redemption</td>\n",
       "      <td>1994</td>\n",
       "      <td>142</td>\n",
       "      <td>80</td>\n",
       "      <td>2,450,660</td>\n",
       "      <td>$28.34M</td>\n",
       "    </tr>\n",
       "    <tr>\n",
       "      <th>1</th>\n",
       "      <td>The Godfather</td>\n",
       "      <td>1972</td>\n",
       "      <td>175</td>\n",
       "      <td>100</td>\n",
       "      <td>1,696,257</td>\n",
       "      <td>$134.97M</td>\n",
       "    </tr>\n",
       "    <tr>\n",
       "      <th>2</th>\n",
       "      <td>Soorarai Pottru</td>\n",
       "      <td>2020</td>\n",
       "      <td>153</td>\n",
       "      <td>0</td>\n",
       "      <td>88,794</td>\n",
       "      <td>$0</td>\n",
       "    </tr>\n",
       "    <tr>\n",
       "      <th>3</th>\n",
       "      <td>The Dark Knight</td>\n",
       "      <td>2008</td>\n",
       "      <td>152</td>\n",
       "      <td>84</td>\n",
       "      <td>2,406,378</td>\n",
       "      <td>$534.86M</td>\n",
       "    </tr>\n",
       "    <tr>\n",
       "      <th>4</th>\n",
       "      <td>The Godfather: Part II</td>\n",
       "      <td>1974</td>\n",
       "      <td>202</td>\n",
       "      <td>90</td>\n",
       "      <td>1,178,187</td>\n",
       "      <td>$57.30M</td>\n",
       "    </tr>\n",
       "    <tr>\n",
       "      <th>...</th>\n",
       "      <td>...</td>\n",
       "      <td>...</td>\n",
       "      <td>...</td>\n",
       "      <td>...</td>\n",
       "      <td>...</td>\n",
       "      <td>...</td>\n",
       "    </tr>\n",
       "    <tr>\n",
       "      <th>95</th>\n",
       "      <td>Jodaeiye Nader az Simin</td>\n",
       "      <td>2011</td>\n",
       "      <td>123</td>\n",
       "      <td>95</td>\n",
       "      <td>230,795</td>\n",
       "      <td>$7.10M</td>\n",
       "    </tr>\n",
       "    <tr>\n",
       "      <th>96</th>\n",
       "      <td>Incendies</td>\n",
       "      <td>2010</td>\n",
       "      <td>131</td>\n",
       "      <td>80</td>\n",
       "      <td>160,471</td>\n",
       "      <td>$6.86M</td>\n",
       "    </tr>\n",
       "    <tr>\n",
       "      <th>97</th>\n",
       "      <td>Kimetsu no Yaiba: Mugen Ressha-Hen</td>\n",
       "      <td>2020</td>\n",
       "      <td>117</td>\n",
       "      <td>75</td>\n",
       "      <td>33,072</td>\n",
       "      <td>$0</td>\n",
       "    </tr>\n",
       "    <tr>\n",
       "      <th>98</th>\n",
       "      <td>The Father</td>\n",
       "      <td>I 2020</td>\n",
       "      <td>97</td>\n",
       "      <td>88</td>\n",
       "      <td>88,542</td>\n",
       "      <td>$0</td>\n",
       "    </tr>\n",
       "    <tr>\n",
       "      <th>99</th>\n",
       "      <td>Babam ve Oglum</td>\n",
       "      <td>2005</td>\n",
       "      <td>112</td>\n",
       "      <td>0</td>\n",
       "      <td>82,674</td>\n",
       "      <td>$0</td>\n",
       "    </tr>\n",
       "  </tbody>\n",
       "</table>\n",
       "<p>100 rows × 6 columns</p>\n",
       "</div>"
      ],
      "text/plain": [
       "                     Name of the movie Year of Release Duration Metascore  \\\n",
       "0             The Shawshank Redemption            1994      142        80   \n",
       "1                        The Godfather            1972      175       100   \n",
       "2                      Soorarai Pottru            2020      153         0   \n",
       "3                      The Dark Knight            2008      152        84   \n",
       "4               The Godfather: Part II            1974      202        90   \n",
       "..                                 ...             ...      ...       ...   \n",
       "95             Jodaeiye Nader az Simin            2011      123        95   \n",
       "96                           Incendies            2010      131        80   \n",
       "97  Kimetsu no Yaiba: Mugen Ressha-Hen            2020      117        75   \n",
       "98                          The Father          I 2020       97        88   \n",
       "99                      Babam ve Oglum            2005      112         0   \n",
       "\n",
       "        Votes     Gross  \n",
       "0   2,450,660   $28.34M  \n",
       "1   1,696,257  $134.97M  \n",
       "2      88,794        $0  \n",
       "3   2,406,378  $534.86M  \n",
       "4   1,178,187   $57.30M  \n",
       "..        ...       ...  \n",
       "95    230,795    $7.10M  \n",
       "96    160,471    $6.86M  \n",
       "97     33,072        $0  \n",
       "98     88,542        $0  \n",
       "99     82,674        $0  \n",
       "\n",
       "[100 rows x 6 columns]"
      ]
     },
     "execution_count": 154,
     "metadata": {},
     "output_type": "execute_result"
    }
   ],
   "source": [
    "movie_df\n"
   ]
  },
  {
   "cell_type": "code",
   "execution_count": 155,
   "id": "5a7bf7c4",
   "metadata": {},
   "outputs": [],
   "source": [
    "movie_df.to_csv(\"IMDb_movies_reviews.csv\")"
   ]
  },
  {
   "cell_type": "code",
   "execution_count": 11,
   "id": "c2124c28",
   "metadata": {},
   "outputs": [],
   "source": [
    "movie_df = pd.read_csv(\"D:\\Cyborg\\web_scrapping\\imdb\\IMDb_movies_reviews.csv\", index_col=0)"
   ]
  },
  {
   "cell_type": "code",
   "execution_count": 12,
   "metadata": {},
   "outputs": [
    {
     "output_type": "execute_result",
     "data": {
      "text/plain": [
       "                     Name of the movie Year of Release  Duration  Metascore  \\\n",
       "0             The Shawshank Redemption            1994       142         80   \n",
       "1                        The Godfather            1972       175        100   \n",
       "2                      Soorarai Pottru            2020       153          0   \n",
       "3                      The Dark Knight            2008       152         84   \n",
       "4               The Godfather: Part II            1974       202         90   \n",
       "..                                 ...             ...       ...        ...   \n",
       "95             Jodaeiye Nader az Simin            2011       123         95   \n",
       "96                           Incendies            2010       131         80   \n",
       "97  Kimetsu no Yaiba: Mugen Ressha-Hen            2020       117         75   \n",
       "98                          The Father          I 2020        97         88   \n",
       "99                      Babam ve Oglum            2005       112          0   \n",
       "\n",
       "        Votes     Gross  \n",
       "0   24,50,660   $28.34M  \n",
       "1   16,96,257  $134.97M  \n",
       "2      88,794        $0  \n",
       "3   24,06,378  $534.86M  \n",
       "4   11,78,187   $57.30M  \n",
       "..        ...       ...  \n",
       "95   2,30,795    $7.10M  \n",
       "96   1,60,471    $6.86M  \n",
       "97     33,072        $0  \n",
       "98     88,542        $0  \n",
       "99     82,674        $0  \n",
       "\n",
       "[100 rows x 6 columns]"
      ],
      "text/html": "<div>\n<style scoped>\n    .dataframe tbody tr th:only-of-type {\n        vertical-align: middle;\n    }\n\n    .dataframe tbody tr th {\n        vertical-align: top;\n    }\n\n    .dataframe thead th {\n        text-align: right;\n    }\n</style>\n<table border=\"1\" class=\"dataframe\">\n  <thead>\n    <tr style=\"text-align: right;\">\n      <th></th>\n      <th>Name of the movie</th>\n      <th>Year of Release</th>\n      <th>Duration</th>\n      <th>Metascore</th>\n      <th>Votes</th>\n      <th>Gross</th>\n    </tr>\n  </thead>\n  <tbody>\n    <tr>\n      <th>0</th>\n      <td>The Shawshank Redemption</td>\n      <td>1994</td>\n      <td>142</td>\n      <td>80</td>\n      <td>24,50,660</td>\n      <td>$28.34M</td>\n    </tr>\n    <tr>\n      <th>1</th>\n      <td>The Godfather</td>\n      <td>1972</td>\n      <td>175</td>\n      <td>100</td>\n      <td>16,96,257</td>\n      <td>$134.97M</td>\n    </tr>\n    <tr>\n      <th>2</th>\n      <td>Soorarai Pottru</td>\n      <td>2020</td>\n      <td>153</td>\n      <td>0</td>\n      <td>88,794</td>\n      <td>$0</td>\n    </tr>\n    <tr>\n      <th>3</th>\n      <td>The Dark Knight</td>\n      <td>2008</td>\n      <td>152</td>\n      <td>84</td>\n      <td>24,06,378</td>\n      <td>$534.86M</td>\n    </tr>\n    <tr>\n      <th>4</th>\n      <td>The Godfather: Part II</td>\n      <td>1974</td>\n      <td>202</td>\n      <td>90</td>\n      <td>11,78,187</td>\n      <td>$57.30M</td>\n    </tr>\n    <tr>\n      <th>...</th>\n      <td>...</td>\n      <td>...</td>\n      <td>...</td>\n      <td>...</td>\n      <td>...</td>\n      <td>...</td>\n    </tr>\n    <tr>\n      <th>95</th>\n      <td>Jodaeiye Nader az Simin</td>\n      <td>2011</td>\n      <td>123</td>\n      <td>95</td>\n      <td>2,30,795</td>\n      <td>$7.10M</td>\n    </tr>\n    <tr>\n      <th>96</th>\n      <td>Incendies</td>\n      <td>2010</td>\n      <td>131</td>\n      <td>80</td>\n      <td>1,60,471</td>\n      <td>$6.86M</td>\n    </tr>\n    <tr>\n      <th>97</th>\n      <td>Kimetsu no Yaiba: Mugen Ressha-Hen</td>\n      <td>2020</td>\n      <td>117</td>\n      <td>75</td>\n      <td>33,072</td>\n      <td>$0</td>\n    </tr>\n    <tr>\n      <th>98</th>\n      <td>The Father</td>\n      <td>I 2020</td>\n      <td>97</td>\n      <td>88</td>\n      <td>88,542</td>\n      <td>$0</td>\n    </tr>\n    <tr>\n      <th>99</th>\n      <td>Babam ve Oglum</td>\n      <td>2005</td>\n      <td>112</td>\n      <td>0</td>\n      <td>82,674</td>\n      <td>$0</td>\n    </tr>\n  </tbody>\n</table>\n<p>100 rows × 6 columns</p>\n</div>"
     },
     "metadata": {},
     "execution_count": 12
    }
   ],
   "source": [
    "movie_df"
   ]
  },
  {
   "cell_type": "code",
   "execution_count": null,
   "metadata": {},
   "outputs": [],
   "source": []
  }
 ],
 "metadata": {
  "kernelspec": {
   "name": "python3",
   "display_name": "Python 3.9.1 64-bit"
  },
  "language_info": {
   "codemirror_mode": {
    "name": "ipython",
    "version": 3
   },
   "file_extension": ".py",
   "mimetype": "text/x-python",
   "name": "python",
   "nbconvert_exporter": "python",
   "pygments_lexer": "ipython3",
   "version": "3.9.1"
  },
  "interpreter": {
   "hash": "b895bb41f42138f245312fbd7fb7c02a29ff52de8ef7f87868c23527834283c2"
  }
 },
 "nbformat": 4,
 "nbformat_minor": 5
}